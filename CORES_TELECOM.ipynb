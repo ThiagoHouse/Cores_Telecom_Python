{
  "nbformat": 4,
  "nbformat_minor": 0,
  "metadata": {
    "colab": {
      "name": "CORES_TELECOM.ipynb",
      "provenance": []
    },
    "kernelspec": {
      "name": "python3",
      "display_name": "Python 3"
    },
    "language_info": {
      "name": "python"
    }
  },
  "cells": [
    {
      "cell_type": "code",
      "metadata": {
        "id": "w-CN2HGh4z_v",
        "colab": {
          "base_uri": "https://localhost:8080/"
        },
        "outputId": "6f3cf611-5601-477e-c1c6-0784b1af2bb1"
      },
      "source": [
        "numfibra = int(input('Digite o número da fibra: '))\n",
        "corfibra = [\n",
        "    'verde', 'amarela', 'branca', 'azul', 'vermelha','violeta', 'marrom', 'rosa', 'preta', 'cinza', 'lanranja', 'aqua'\n",
        "]\n",
        "\n",
        "for cor in corfibra:\n",
        "    if numfibra % 12 == 1:\n",
        "        print('cor:', corfibra[0])\n",
        "    elif numfibra % 12 == 2:\n",
        "        print('cor:', corfibra[1])\n",
        "    elif numfibra % 12 == 3:\n",
        "        print('cor:', corfibra[2])\n",
        "    elif numfibra % 12 == 4:\n",
        "        print('cor:', corfibra[3])\n",
        "    elif numfibra % 12 == 5:\n",
        "        print('cor:', corfibra[4])\n",
        "    elif numfibra % 12 == 6:\n",
        "        print('cor:', corfibra[5])\n",
        "    elif numfibra % 12 == 7:\n",
        "        print('cor:', corfibra[6])\n",
        "    elif numfibra % 12 == 8:\n",
        "        print('cor:', corfibra[7])\n",
        "    elif numfibra % 12 == 9:\n",
        "        print('cor:', corfibra[8])\n",
        "    elif numfibra % 12 == 10:\n",
        "        print('cor:', corfibra[9])\n",
        "    elif numfibra % 12 == 11:\n",
        "        print('cor', corfibra[10])\n",
        "    elif numfibra % 12 == 0:\n",
        "        print('cor:', corfibra[11])\n",
        "    else:\n",
        "        print('Este número não faz parte da tabela de cores!')\n",
        "    break"
      ],
      "execution_count": 38,
      "outputs": [
        {
          "output_type": "stream",
          "name": "stdout",
          "text": [
            "Digite o número da fibra: 108\n",
            "cor: aqua\n"
          ]
        }
      ]
    },
    {
      "cell_type": "code",
      "metadata": {
        "colab": {
          "base_uri": "https://localhost:8080/"
        },
        "id": "ICO-UsVkb_Uf",
        "outputId": "eb066ff3-b35f-42a6-a79a-82d57689dc40"
      },
      "source": [
        "# Desenvolva um programa que leia duas notas de um aluno, calcule e mostre sua média\n",
        "n1 = float(input('Primeira nota: '))\n",
        "n2 = float(input('Segunda nota: '))\n",
        "m = (n1 + n2) / 2\n",
        "print('A media entre {:.1f} e {:.1f} é igual a {:.1f}' .format(n1, n2, m))"
      ],
      "execution_count": 6,
      "outputs": [
        {
          "output_type": "stream",
          "name": "stdout",
          "text": [
            "Primeira nota: 10\n",
            "Segunda nota: 5\n",
            "A media entre 10.0 e 5.0 é igual a 7.5\n"
          ]
        }
      ]
    },
    {
      "cell_type": "code",
      "metadata": {
        "colab": {
          "base_uri": "https://localhost:8080/",
          "height": 564
        },
        "id": "QTzFQ0dGFRHS",
        "outputId": "71421782-1604-42a9-89f5-2395c251821c"
      },
      "source": [
        "numfibra = int(input('Digite o número da fibra: '))\n",
        "corfibra = [\n",
        "    'verde', 'amarela', 'branca', 'azul', 'vermelha','violeta', 'marrom', 'rosa', 'preta', 'cinza', 'lanranja', 'aqua'\n",
        "]\n",
        "\n",
        "if numfibra % 12 == 1:\n",
        "    print('cor:', corfibra[0])\n",
        "elif numfibra % 12 == 2:\n",
        "    print('cor:',corfibra[1])\n",
        "elif numfibra % 12 == 3:\n",
        "    print('cor:', corfibra[2])\n",
        "elif numfibra % 12 == 4:\n",
        "    print('cor:', corfibra[3])\n",
        "elif numfibra % 12 == 5:\n",
        "    print('cor:', corfibra[4]) \n",
        "elif numfibra % 12 == 6:\n",
        "    print('cor:',corfibra[5])\n",
        "elif numfibra % 12 == 7:\n",
        "    print('cor:', corfibra[6])\n",
        "elif numfibra % 12 == 8:\n",
        "    print('cor:', corfibra[7])\n",
        "elif numfibra % 12 == 9:\n",
        "    print('cor:', corfibra[8])   \n",
        "elif numfibra % 12 == 10:\n",
        "    print('cor:', corfibra[9])\n",
        "elif numfibra % 12 == 11:\n",
        "    print('cor:', corfibra[10])   \n",
        "elif numfibra % 12 == 0:\n",
        "    print('cor:', corfibra[11])\n",
        "else:\n",
        "    print('Este número não faz parteda tabela de cores!')"
      ],
      "execution_count": 21,
      "outputs": [
        {
          "output_type": "error",
          "ename": "KeyboardInterrupt",
          "evalue": "ignored",
          "traceback": [
            "\u001b[0;31m---------------------------------------------------------------------------\u001b[0m",
            "\u001b[0;31mKeyboardInterrupt\u001b[0m                         Traceback (most recent call last)",
            "\u001b[0;32m/usr/local/lib/python3.7/dist-packages/ipykernel/kernelbase.py\u001b[0m in \u001b[0;36m_input_request\u001b[0;34m(self, prompt, ident, parent, password)\u001b[0m\n\u001b[1;32m    728\u001b[0m             \u001b[0;32mtry\u001b[0m\u001b[0;34m:\u001b[0m\u001b[0;34m\u001b[0m\u001b[0;34m\u001b[0m\u001b[0m\n\u001b[0;32m--> 729\u001b[0;31m                 \u001b[0mident\u001b[0m\u001b[0;34m,\u001b[0m \u001b[0mreply\u001b[0m \u001b[0;34m=\u001b[0m \u001b[0mself\u001b[0m\u001b[0;34m.\u001b[0m\u001b[0msession\u001b[0m\u001b[0;34m.\u001b[0m\u001b[0mrecv\u001b[0m\u001b[0;34m(\u001b[0m\u001b[0mself\u001b[0m\u001b[0;34m.\u001b[0m\u001b[0mstdin_socket\u001b[0m\u001b[0;34m,\u001b[0m \u001b[0;36m0\u001b[0m\u001b[0;34m)\u001b[0m\u001b[0;34m\u001b[0m\u001b[0;34m\u001b[0m\u001b[0m\n\u001b[0m\u001b[1;32m    730\u001b[0m             \u001b[0;32mexcept\u001b[0m \u001b[0mException\u001b[0m\u001b[0;34m:\u001b[0m\u001b[0;34m\u001b[0m\u001b[0;34m\u001b[0m\u001b[0m\n",
            "\u001b[0;32m/usr/local/lib/python3.7/dist-packages/jupyter_client/session.py\u001b[0m in \u001b[0;36mrecv\u001b[0;34m(self, socket, mode, content, copy)\u001b[0m\n\u001b[1;32m    802\u001b[0m         \u001b[0;32mtry\u001b[0m\u001b[0;34m:\u001b[0m\u001b[0;34m\u001b[0m\u001b[0;34m\u001b[0m\u001b[0m\n\u001b[0;32m--> 803\u001b[0;31m             \u001b[0mmsg_list\u001b[0m \u001b[0;34m=\u001b[0m \u001b[0msocket\u001b[0m\u001b[0;34m.\u001b[0m\u001b[0mrecv_multipart\u001b[0m\u001b[0;34m(\u001b[0m\u001b[0mmode\u001b[0m\u001b[0;34m,\u001b[0m \u001b[0mcopy\u001b[0m\u001b[0;34m=\u001b[0m\u001b[0mcopy\u001b[0m\u001b[0;34m)\u001b[0m\u001b[0;34m\u001b[0m\u001b[0;34m\u001b[0m\u001b[0m\n\u001b[0m\u001b[1;32m    804\u001b[0m         \u001b[0;32mexcept\u001b[0m \u001b[0mzmq\u001b[0m\u001b[0;34m.\u001b[0m\u001b[0mZMQError\u001b[0m \u001b[0;32mas\u001b[0m \u001b[0me\u001b[0m\u001b[0;34m:\u001b[0m\u001b[0;34m\u001b[0m\u001b[0;34m\u001b[0m\u001b[0m\n",
            "\u001b[0;32m/usr/local/lib/python3.7/dist-packages/zmq/sugar/socket.py\u001b[0m in \u001b[0;36mrecv_multipart\u001b[0;34m(self, flags, copy, track)\u001b[0m\n\u001b[1;32m    624\u001b[0m         \"\"\"\n\u001b[0;32m--> 625\u001b[0;31m         \u001b[0mparts\u001b[0m \u001b[0;34m=\u001b[0m \u001b[0;34m[\u001b[0m\u001b[0mself\u001b[0m\u001b[0;34m.\u001b[0m\u001b[0mrecv\u001b[0m\u001b[0;34m(\u001b[0m\u001b[0mflags\u001b[0m\u001b[0;34m,\u001b[0m \u001b[0mcopy\u001b[0m\u001b[0;34m=\u001b[0m\u001b[0mcopy\u001b[0m\u001b[0;34m,\u001b[0m \u001b[0mtrack\u001b[0m\u001b[0;34m=\u001b[0m\u001b[0mtrack\u001b[0m\u001b[0;34m)\u001b[0m\u001b[0;34m]\u001b[0m\u001b[0;34m\u001b[0m\u001b[0;34m\u001b[0m\u001b[0m\n\u001b[0m\u001b[1;32m    626\u001b[0m         \u001b[0;31m# have first part already, only loop while more to receive\u001b[0m\u001b[0;34m\u001b[0m\u001b[0;34m\u001b[0m\u001b[0;34m\u001b[0m\u001b[0m\n",
            "\u001b[0;32mzmq/backend/cython/socket.pyx\u001b[0m in \u001b[0;36mzmq.backend.cython.socket.Socket.recv\u001b[0;34m()\u001b[0m\n",
            "\u001b[0;32mzmq/backend/cython/socket.pyx\u001b[0m in \u001b[0;36mzmq.backend.cython.socket.Socket.recv\u001b[0;34m()\u001b[0m\n",
            "\u001b[0;32mzmq/backend/cython/socket.pyx\u001b[0m in \u001b[0;36mzmq.backend.cython.socket._recv_copy\u001b[0;34m()\u001b[0m\n",
            "\u001b[0;32m/usr/local/lib/python3.7/dist-packages/zmq/backend/cython/checkrc.pxd\u001b[0m in \u001b[0;36mzmq.backend.cython.checkrc._check_rc\u001b[0;34m()\u001b[0m\n",
            "\u001b[0;31mKeyboardInterrupt\u001b[0m: ",
            "\nDuring handling of the above exception, another exception occurred:\n",
            "\u001b[0;31mKeyboardInterrupt\u001b[0m                         Traceback (most recent call last)",
            "\u001b[0;32m<ipython-input-21-d2fc9a8b9bdc>\u001b[0m in \u001b[0;36m<module>\u001b[0;34m()\u001b[0m\n\u001b[0;32m----> 1\u001b[0;31m \u001b[0mnumfibra\u001b[0m \u001b[0;34m=\u001b[0m \u001b[0mint\u001b[0m\u001b[0;34m(\u001b[0m\u001b[0minput\u001b[0m\u001b[0;34m(\u001b[0m\u001b[0;34m'Digite o número da fibra: '\u001b[0m\u001b[0;34m)\u001b[0m\u001b[0;34m)\u001b[0m\u001b[0;34m\u001b[0m\u001b[0;34m\u001b[0m\u001b[0m\n\u001b[0m\u001b[1;32m      2\u001b[0m corfibra = [\n\u001b[1;32m      3\u001b[0m     \u001b[0;34m'verde'\u001b[0m\u001b[0;34m,\u001b[0m \u001b[0;34m'amarela'\u001b[0m\u001b[0;34m,\u001b[0m \u001b[0;34m'branca'\u001b[0m\u001b[0;34m,\u001b[0m \u001b[0;34m'azul'\u001b[0m\u001b[0;34m,\u001b[0m \u001b[0;34m'vermelha'\u001b[0m\u001b[0;34m,\u001b[0m\u001b[0;34m'violeta'\u001b[0m\u001b[0;34m,\u001b[0m \u001b[0;34m'marrom'\u001b[0m\u001b[0;34m,\u001b[0m \u001b[0;34m'rosa'\u001b[0m\u001b[0;34m,\u001b[0m \u001b[0;34m'preta'\u001b[0m\u001b[0;34m,\u001b[0m \u001b[0;34m'cinza'\u001b[0m\u001b[0;34m,\u001b[0m \u001b[0;34m'lanranja'\u001b[0m\u001b[0;34m,\u001b[0m \u001b[0;34m'aqua'\u001b[0m\u001b[0;34m\u001b[0m\u001b[0;34m\u001b[0m\u001b[0m\n\u001b[1;32m      4\u001b[0m ]\n\u001b[1;32m      5\u001b[0m \u001b[0;34m\u001b[0m\u001b[0m\n",
            "\u001b[0;32m/usr/local/lib/python3.7/dist-packages/ipykernel/kernelbase.py\u001b[0m in \u001b[0;36mraw_input\u001b[0;34m(self, prompt)\u001b[0m\n\u001b[1;32m    702\u001b[0m             \u001b[0mself\u001b[0m\u001b[0;34m.\u001b[0m\u001b[0m_parent_ident\u001b[0m\u001b[0;34m,\u001b[0m\u001b[0;34m\u001b[0m\u001b[0;34m\u001b[0m\u001b[0m\n\u001b[1;32m    703\u001b[0m             \u001b[0mself\u001b[0m\u001b[0;34m.\u001b[0m\u001b[0m_parent_header\u001b[0m\u001b[0;34m,\u001b[0m\u001b[0;34m\u001b[0m\u001b[0;34m\u001b[0m\u001b[0m\n\u001b[0;32m--> 704\u001b[0;31m             \u001b[0mpassword\u001b[0m\u001b[0;34m=\u001b[0m\u001b[0;32mFalse\u001b[0m\u001b[0;34m,\u001b[0m\u001b[0;34m\u001b[0m\u001b[0;34m\u001b[0m\u001b[0m\n\u001b[0m\u001b[1;32m    705\u001b[0m         )\n\u001b[1;32m    706\u001b[0m \u001b[0;34m\u001b[0m\u001b[0m\n",
            "\u001b[0;32m/usr/local/lib/python3.7/dist-packages/ipykernel/kernelbase.py\u001b[0m in \u001b[0;36m_input_request\u001b[0;34m(self, prompt, ident, parent, password)\u001b[0m\n\u001b[1;32m    732\u001b[0m             \u001b[0;32mexcept\u001b[0m \u001b[0mKeyboardInterrupt\u001b[0m\u001b[0;34m:\u001b[0m\u001b[0;34m\u001b[0m\u001b[0;34m\u001b[0m\u001b[0m\n\u001b[1;32m    733\u001b[0m                 \u001b[0;31m# re-raise KeyboardInterrupt, to truncate traceback\u001b[0m\u001b[0;34m\u001b[0m\u001b[0;34m\u001b[0m\u001b[0;34m\u001b[0m\u001b[0m\n\u001b[0;32m--> 734\u001b[0;31m                 \u001b[0;32mraise\u001b[0m \u001b[0mKeyboardInterrupt\u001b[0m\u001b[0;34m\u001b[0m\u001b[0;34m\u001b[0m\u001b[0m\n\u001b[0m\u001b[1;32m    735\u001b[0m             \u001b[0;32melse\u001b[0m\u001b[0;34m:\u001b[0m\u001b[0;34m\u001b[0m\u001b[0;34m\u001b[0m\u001b[0m\n\u001b[1;32m    736\u001b[0m                 \u001b[0;32mbreak\u001b[0m\u001b[0;34m\u001b[0m\u001b[0;34m\u001b[0m\u001b[0m\n",
            "\u001b[0;31mKeyboardInterrupt\u001b[0m: "
          ]
        }
      ]
    },
    {
      "cell_type": "code",
      "metadata": {
        "colab": {
          "base_uri": "https://localhost:8080/"
        },
        "id": "xAup-iL2Y0TL",
        "outputId": "60ce7f2a-e06c-461d-fbfc-68e098748338"
      },
      "source": [
        "numfibra = int(input('Digite o número da fibra: '))\n",
        "corfibra = [\n",
        "    'verde', 'amarela', 'branca', 'azul', 'vermelha','violeta', 'marrom', 'rosa', 'preta', 'cinza', 'lanranja', 'aqua'\n",
        "]\n",
        "grupo = numfibra * 24 / 288\n",
        "if numfibra % 12 == 1 and int(grupo):\n",
        "  print('cor da fibra:', corfibra[0], 'gurpo:', grupo)\n",
        "else:\n",
        "  print('##número inválido')\n"
      ],
      "execution_count": null,
      "outputs": [
        {
          "output_type": "stream",
          "name": "stdout",
          "text": [
            "Digite o número da fibra: 25\n",
            "cor da fibra: verde gurpo: 2.0833333333333335\n"
          ]
        }
      ]
    }
  ]
}