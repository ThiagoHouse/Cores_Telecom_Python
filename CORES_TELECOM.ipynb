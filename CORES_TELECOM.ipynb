{
 "cells": [
  {
   "cell_type": "code",
   "execution_count": null,
   "metadata": {
    "colab": {
     "base_uri": "https://localhost:8080/"
    },
    "id": "w-CN2HGh4z_v",
    "outputId": "6f3cf611-5601-477e-c1c6-0784b1af2bb1"
   },
   "outputs": [],
   "source": [
    "numfibra = int(input('Digite o número da fibra: '))\n",
    "corfibra = [\n",
    "    'verde', 'amarela', 'branca', 'azul', 'vermelha','violeta', 'marrom', 'rosa', 'preta', 'cinza', 'lanranja', 'aqua'\n",
    "]\n",
    "\n",
    "while numfibra < 289:\n",
    "    if numfibra % 12 == 1:\n",
    "        print('cor:', corfibra[0])\n",
    "    elif numfibra % 12 == 2:\n",
    "        print('cor:', corfibra[1])\n",
    "    elif numfibra % 12 == 3:\n",
    "        print('cor:', corfibra[2])\n",
    "    elif numfibra % 12 == 4:\n",
    "        print('cor:', corfibra[3])\n",
    "    elif numfibra % 12 == 5:\n",
    "        print('cor:', corfibra[4])\n",
    "    elif numfibra % 12 == 6:\n",
    "        print('cor:', corfibra[5])\n",
    "    elif numfibra % 12 == 7:\n",
    "        print('cor:', corfibra[6])\n",
    "    elif numfibra % 12 == 8:\n",
    "        print('cor:', corfibra[7])\n",
    "    elif numfibra % 12 == 9:\n",
    "        print('cor:', corfibra[8])\n",
    "    elif numfibra % 12 == 10:\n",
    "        print('cor:', corfibra[9])\n",
    "    elif numfibra % 12 == 11:\n",
    "        print('cor', corfibra[10])\n",
    "    elif numfibra % 12 == 0:\n",
    "        print('cor:', corfibra[11])\n",
    "    \n",
    "        break\n",
    "    \n",
    "    else:\n",
    "        pass\n",
    "        print('Este número não faz parte da tabela de cores!')\n",
    "        numfibra += 1"
   ]
  },
  {
   "cell_type": "code",
   "execution_count": null,
   "metadata": {
    "colab": {
     "base_uri": "https://localhost:8080/"
    },
    "id": "ICO-UsVkb_Uf",
    "outputId": "eb066ff3-b35f-42a6-a79a-82d57689dc40"
   },
   "outputs": [],
   "source": [
    "# Desenvolva um programa que leia duas notas de um aluno, calcule e mostre sua média\n",
    "n1 = float(input('Primeira nota: '))\n",
    "n2 = float(input('Segunda nota: '))\n",
    "m = (n1 + n2) / 2\n",
    "print('A media entre {:.1f} e {:.1f} é igual a {:.1f}' .format(n1, n2, m))"
   ]
  },
  {
   "cell_type": "code",
   "execution_count": null,
   "metadata": {
    "colab": {
     "base_uri": "https://localhost:8080/",
     "height": 564
    },
    "id": "QTzFQ0dGFRHS",
    "outputId": "71421782-1604-42a9-89f5-2395c251821c"
   },
   "outputs": [],
   "source": [
    "numfibra = int(input('Digite o número da fibra: '))\n",
    "corfibra = [\n",
    "    'verde', 'amarela', 'branca', 'azul', 'vermelha','violeta', 'marrom', 'rosa', 'preta', 'cinza', 'lanranja', 'aqua'\n",
    "]\n",
    "\n",
    "if numfibra % 12 == 1:\n",
    "    print('cor:', corfibra[0])\n",
    "elif numfibra % 12 == 2:\n",
    "    print('cor:',corfibra[1])\n",
    "elif numfibra % 12 == 3:\n",
    "    print('cor:', corfibra[2])\n",
    "elif numfibra % 12 == 4:\n",
    "    print('cor:', corfibra[3])\n",
    "elif numfibra % 12 == 5:\n",
    "    print('cor:', corfibra[4]) \n",
    "elif numfibra % 12 == 6:\n",
    "    print('cor:',corfibra[5])\n",
    "elif numfibra % 12 == 7:\n",
    "    print('cor:', corfibra[6])\n",
    "elif numfibra % 12 == 8:\n",
    "    print('cor:', corfibra[7])\n",
    "elif numfibra % 12 == 9:\n",
    "    print('cor:', corfibra[8])   \n",
    "elif numfibra % 12 == 10:\n",
    "    print('cor:', corfibra[9])\n",
    "elif numfibra % 12 == 11:\n",
    "    print('cor:', corfibra[10])   \n",
    "elif numfibra % 12 == 0:\n",
    "    print('cor:', corfibra[11])\n",
    "else:\n",
    "    print('Este número não faz parteda tabela de cores!')"
   ]
  },
  {
   "cell_type": "code",
   "execution_count": null,
   "metadata": {
    "colab": {
     "base_uri": "https://localhost:8080/"
    },
    "id": "xAup-iL2Y0TL",
    "outputId": "60ce7f2a-e06c-461d-fbfc-68e098748338"
   },
   "outputs": [],
   "source": [
    "numfibra = int(input('Digite o número da fibra: '))\n",
    "corfibra = [\n",
    "    'verde', 'amarela', 'branca', 'azul', 'vermelha','violeta', 'marrom', 'rosa', 'preta', 'cinza', 'lanranja', 'aqua'\n",
    "]\n",
    "grupo = numfibra * 24 / 288\n",
    "if numfibra % 12 == 1 and int(grupo):\n",
    "  print('cor da fibra:', corfibra[0], 'gurpo:', grupo)\n",
    "else:\n",
    "  print('##número inválido')\n"
   ]
  }
 ],
 "metadata": {
  "colab": {
   "name": "CORES_TELECOM.ipynb",
   "provenance": []
  },
  "kernelspec": {
   "display_name": "Python 3",
   "language": "python",
   "name": "python3"
  },
  "language_info": {
   "codemirror_mode": {
    "name": "ipython",
    "version": 3
   },
   "file_extension": ".py",
   "mimetype": "text/x-python",
   "name": "python",
   "nbconvert_exporter": "python",
   "pygments_lexer": "ipython3",
   "version": "3.8.8"
  }
 },
 "nbformat": 4,
 "nbformat_minor": 1
}
